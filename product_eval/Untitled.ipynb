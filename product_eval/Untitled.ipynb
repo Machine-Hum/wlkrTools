{
 "cells": [
  {
   "cell_type": "markdown",
   "metadata": {},
   "source": [
    "# Niche Markets\n",
    "The reasonable way to go about developing a niche product would be to start with\n",
    "the market itself, rather than the idea. The key points you want to understand\n",
    "from this analasys is...\n",
    "\n",
    "    1) How big in the niche market\n",
    "        - (guess) Big: Animal owners\n",
    "        - (guess) Small: Lizard owners\n",
    "        How to get these numbers without having to guess?\n",
    "            - Google trends\n",
    "            - Site visits?\n",
    "\n",
    "    2) How _new_ is the niche market"
   ]
  },
  {
   "cell_type": "markdown",
   "metadata": {},
   "source": [
    "# Understanding Potential Buyers\n",
    "A potential buyer is someone that would be willing to buy your product.\n",
    "\n",
    "```potential_buyers = market_size * pec_int;```\n",
    "\n",
    "- market_size: How big is the market\n",
    "- pec_int: What percentage of the market is interested\n",
    "\n",
    "```pec_int = market_buyability / pd_innovation```\n",
    "\n",
    "- market_buyability: Do people buy things in the market??\n",
    "    - (guess) Soccer: 0.2\n",
    "    - (guess) Modular Synths: 0.8\n",
    "\n",
    "- pd_innovation: How much innovation is going into product development (overall)\n",
    "    - Innovation is combined value of\n",
    "        - Cash going into development (raw_cash)\n",
    "        - Expertise in the field (experties)\n",
    "\n",
    "```pd_innovation = raw_cash + expertis```\n",
    "\n",
    "\n",
    "```potential_buyers = market_size * (market_buyability / (raw_cash + expertis))```\n",
    "\n"
   ]
  },
  {
   "cell_type": "markdown",
   "metadata": {},
   "source": [
    "# Product Evaluation\n",
    "Understanding niche markets are completely different from a developed market.\n",
    "\n",
    "## Market Size\n",
    "- Tools to understand market size\n",
    "    - http://buzzsumo.com/\n",
    "    - https://www.shopify.com/blog/www.google.com/sktool/\n",
    "\n",
    "## Potential demand\n",
    "\n",
    "## Competitors\n",
    "\n",
    "## Growing Market"
   ]
  }
 ],
 "metadata": {
  "kernelspec": {
   "display_name": "Python 3",
   "language": "python",
   "name": "python3"
  },
  "language_info": {
   "codemirror_mode": {
    "name": "ipython",
    "version": 3
   },
   "file_extension": ".py",
   "mimetype": "text/x-python",
   "name": "python",
   "nbconvert_exporter": "python",
   "pygments_lexer": "ipython3",
   "version": "3.8.5"
  }
 },
 "nbformat": 4,
 "nbformat_minor": 4
}
